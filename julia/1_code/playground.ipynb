{
 "cells": [
  {
   "cell_type": "markdown",
   "metadata": {},
   "source": [
    "# Description\n",
    "\n",
    "This notebook will serve to test ideas before implementation"
   ]
  },
  {
   "cell_type": "code",
   "execution_count": 14,
   "metadata": {},
   "outputs": [
    {
     "data": {
      "text/plain": [
       "2-element Vector{ComplexF64}:\n",
       " 0.36787944117144233 + 0.0im\n",
       "                 0.0 + 0.0im"
      ]
     },
     "metadata": {},
     "output_type": "display_data"
    }
   ],
   "source": [
    "using LinearAlgebra\n",
    "A = exp(diagm(-[1, -1.0im]))\n",
    "B = [1;0.0]\n",
    "A[1, :]"
   ]
  },
  {
   "cell_type": "code",
   "execution_count": 6,
   "metadata": {},
   "outputs": [
    {
     "data": {
      "text/plain": [
       "3×2 Matrix{Float64}:\n",
       " 2.0  2.0\n",
       " 2.0  2.0\n",
       " 2.0  2.0"
      ]
     },
     "metadata": {},
     "output_type": "display_data"
    }
   ],
   "source": [
    "using LegendrePolynomials\n",
    "\n",
    "collectPl.([0.1, 0.5], lmax = 5)\n",
    "\n",
    "zeros((3, 2)) .+ 2"
   ]
  },
  {
   "cell_type": "code",
   "execution_count": 13,
   "metadata": {},
   "outputs": [
    {
     "data": {
      "text/plain": [
       "6"
      ]
     },
     "metadata": {},
     "output_type": "display_data"
    }
   ],
   "source": [
    "function A2(a; b = 2*a)\n",
    "    return a + b\n",
    "end\n",
    "\n",
    "\n",
    "A2(2)"
   ]
  },
  {
   "cell_type": "code",
   "execution_count": 31,
   "metadata": {},
   "outputs": [
    {
     "ename": "ErrorException",
     "evalue": "syntax: invalid function name \".+\" around d:\\GITRepos\\km-dropplet-solidsubstrate\\julia\\1_code\\playground.ipynb:17",
     "output_type": "error",
     "traceback": [
      "syntax: invalid function name \".+\" around d:\\GITRepos\\km-dropplet-solidsubstrate\\julia\\1_code\\playground.ipynb:17\n",
      "\n",
      "Stacktrace:\n",
      " [1] top-level scope\n",
      "   @ d:\\GITRepos\\km-dropplet-solidsubstrate\\julia\\1_code\\playground.ipynb:17"
     ]
    }
   ],
   "source": [
    "using LegendrePolynomials, OffsetArrays\n",
    "\n",
    "A = collectPl(0.5, lmax = 5)\n",
    "amplitudes = [0.0, 1, 2, 3, 4, 5];\n",
    "\n",
    "\n",
    "function broadcast(f::Any, amplitudes::Vector{Float64}, A::T) where T <: OffsetArrays.OffsetArray \n",
    "    result = fill(0.0, length(amplitudes));\n",
    "    for (ii, jj) in zip(eachindex(amplitudes), eachindex(A))\n",
    "        result[ii] = f(amplitudes[ii], A[jj]); \n",
    "    end\n",
    "\n",
    "    return result\n",
    "end\n",
    "\n",
    "\n",
    ".+(amplitudes::Vector{Floag64}, A::T) where T <: OffsetArrays.OffsetArray = broadcast(+, amplitudes, A)\n",
    "\n",
    "amplitudes .+ A"
   ]
  },
  {
   "cell_type": "code",
   "execution_count": 33,
   "metadata": {},
   "outputs": [
    {
     "name": "stdout",
     "output_type": "stream",
     "text": [
      "1.0, 1.0\n",
      "0.5, 0.5\n",
      "-0.125, -0.125\n",
      "-0.4375, -0.4375\n",
      "-0.2890625, -0.2890625\n",
      "0.08984375, 0.08984375\n"
     ]
    }
   ],
   "source": [
    "using OffsetArrays\n",
    "typeof(A) <: OffsetArrays.OffsetArray\n",
    "\n",
    "\n",
    "for (ii, jj) in zip(A, A)\n",
    "    println(\"$ii, $jj\")\n",
    "end \n"
   ]
  },
  {
   "cell_type": "code",
   "execution_count": 13,
   "metadata": {},
   "outputs": [
    {
     "data": {
      "text/plain": [
       "6-element Vector{Float64}:\n",
       "  0.0\n",
       "  0.5\n",
       " -0.25\n",
       " -1.3125\n",
       " -1.15625\n",
       "  0.44921875"
      ]
     },
     "metadata": {},
     "output_type": "display_data"
    }
   ],
   "source": [
    "using LegendrePolynomials\n",
    "import LegendrePolynomials: collectPl\n",
    "LegendrePolys(x::Float64; lmax::Integer) = parent(collectPl(x, lmax = lmax))\n",
    "#Int64 <: Integer\n",
    "C = LegendrePolys.(0.5, lmax = 5); amplitudes = [0.0, 1, 2, 3, 4, 5];;\n",
    "amplitudes .* C"
   ]
  },
  {
   "cell_type": "code",
   "execution_count": 55,
   "metadata": {},
   "outputs": [
    {
     "data": {
      "text/plain": [
       "2-element Vector{Float64}:\n",
       " 1.0\n",
       " 0.010000000000000002"
      ]
     },
     "metadata": {},
     "output_type": "display_data"
    }
   ],
   "source": [
    "LegendrePolys(x::Float64; lmax::Integer) = (collectPl(x, lmax = lmax)).parent\n",
    "\n",
    "\n",
    "#collectPl.(0.1, lmax = 1).parent .* collectPl.(0.1, lmax = 1).parent\n",
    "@. collectPl(0.1, lmax = 1).parent * collectPl(0.1, lmax=1).parent\n",
    "\n"
   ]
  },
  {
   "cell_type": "code",
   "execution_count": 83,
   "metadata": {},
   "outputs": [
    {
     "data": {
      "text/plain": [
       "11-element Vector{Float64}:\n",
       " 0.0\n",
       " 0.1\n",
       " 0.2\n",
       " 0.3\n",
       " 0.4\n",
       " 0.5\n",
       " 0.6\n",
       " 0.7\n",
       " 0.8\n",
       " 0.9\n",
       " 1.0"
      ]
     },
     "metadata": {},
     "output_type": "display_data"
    }
   ],
   "source": [
    "B = 0:0.1:1\n",
    "convert(Array{Float64}, B)"
   ]
  },
  {
   "cell_type": "code",
   "execution_count": 49,
   "metadata": {},
   "outputs": [
    {
     "ename": "ErrorException",
     "evalue": "type Array has no field parent",
     "output_type": "error",
     "traceback": [
      "type Array has no field parent\n",
      "\n",
      "Stacktrace:\n",
      " [1] getproperty(x::Vector{OffsetVector{Float64, Vector{Float64}}}, f::Symbol)\n",
      "   @ Base .\\Base.jl:42\n",
      " [2] top-level scope\n",
      "   @ d:\\GITRepos\\km-dropplet-solidsubstrate\\julia\\1_code\\playground.ipynb:8"
     ]
    }
   ],
   "source": [
    "using LegendrePolynomials\n",
    "\n",
    "B = collectPl.(0.1, lmax = 5).parent\n",
    "LP(x::Float64; lmax::Integer) = (collectPl(x, lmax = lmax).parent)\n",
    "C = LP(0.1, lmax =5)\n",
    "#(LP.(0.1, lmax = 5)) .* (LP.(0.1, lmax = 5))\n",
    "A = [0.1, 0.2]\n",
    "@. (collectPl(A, lmax = 5).parent) + (collectPl(A, lmax = 5).parent)\n",
    "\n"
   ]
  },
  {
   "cell_type": "code",
   "execution_count": 57,
   "metadata": {},
   "outputs": [
    {
     "data": {
      "text/plain": [
       "0.10016742111643213"
      ]
     },
     "metadata": {},
     "output_type": "display_data"
    }
   ],
   "source": [
    "include(\"./theta_from_cylindrical.jl\")\n",
    "theta_from_cylindrical(0.1, [0, 0])"
   ]
  }
 ],
 "metadata": {
  "kernelspec": {
   "display_name": "Julia 1.7.2",
   "language": "julia",
   "name": "julia-1.7"
  },
  "language_info": {
   "file_extension": ".jl",
   "mimetype": "application/julia",
   "name": "julia",
   "version": "1.7.2"
  },
  "orig_nbformat": 4
 },
 "nbformat": 4,
 "nbformat_minor": 2
}
