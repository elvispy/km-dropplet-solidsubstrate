{
 "cells": [
  {
   "cell_type": "markdown",
   "metadata": {},
   "source": [
    "# Description\n",
    "\n",
    "This notebook will serve to test ideas before implementation"
   ]
  },
  {
   "cell_type": "code",
   "execution_count": null,
   "metadata": {},
   "outputs": [],
   "source": [
    "using JLD2\n",
    "\n",
    "x = 1\n",
    "println(pwd())\n",
    "save_object(\"hey.jld2\", x)"
   ]
  },
  {
   "cell_type": "code",
   "execution_count": null,
   "metadata": {},
   "outputs": [],
   "source": [
    "y = load_object(\"hey.jld2\");"
   ]
  },
  {
   "cell_type": "code",
   "execution_count": 1,
   "metadata": {},
   "outputs": [
    {
     "data": {
      "text/plain": [
       "LP (generic function with 1 method)"
      ]
     },
     "metadata": {},
     "output_type": "display_data"
    }
   ],
   "source": [
    "using Symbolics\n",
    "\n",
    "@variables x;\n",
    "\n",
    "typeof(x^2 + 1)\n",
    "function LP(n::Int)::Array{Num}\n",
    "    res = fill(zero(BigInt(1) * x), (n+1, ));\n",
    "    for ii = 0:n\n",
    "        if     ii == 0\n",
    "            res[ii+1] = Num(1);\n",
    "        elseif ii == 1\n",
    "            res[ii+1] = x;\n",
    "        else\n",
    "            res[ii+1] = expand((2*ii-1) * x * res[ii] - (ii-1) * res[ii-1])/ii\n",
    "        end\n",
    "    end\n",
    "    return res\n",
    "end\n",
    "\n",
    "#X = LP(50)[45]"
   ]
  },
  {
   "cell_type": "code",
   "execution_count": 5,
   "metadata": {},
   "outputs": [],
   "source": [
    "#using Profile   \n",
    "#using Plots\n",
    "\n",
    "using  SpecialPolynomials, ClassicalOrthogonalPolynomials, LinearAlgebra"
   ]
  },
  {
   "cell_type": "code",
   "execution_count": null,
   "metadata": {},
   "outputs": [],
   "source": [
    "\n",
    "p35 = legendrep(25, x);\n",
    "f(y) = Symbolics.value.(substitute(p35, Dict(x=>y)));\n",
    "f2(y) = legendrep(25, y);\n",
    "\n",
    "s = -1:0.1:1;\n",
    "y1 = f.(s);\n",
    "y2 = f2.(s);\n",
    "\n",
    "using LinearAlgebra\n"
   ]
  },
  {
   "cell_type": "code",
   "execution_count": null,
   "metadata": {},
   "outputs": [],
   "source": [
    "expr = basis(Legendre{Rational{Int}}, 4)(x) |> expand"
   ]
  },
  {
   "cell_type": "code",
   "execution_count": null,
   "metadata": {},
   "outputs": [],
   "source": []
  },
  {
   "cell_type": "code",
   "execution_count": 29,
   "metadata": {},
   "outputs": [
    {
     "name": "stdout",
     "output_type": "stream",
     "text": [
      "false\n",
      "Vector{Polynomial{Rational{BigInt}, :x}}\n"
     ]
    }
   ],
   "source": [
    "using Polynomials, Symbolics, ClassicalOrthogonalPolynomials, LinearAlgebra\n",
    "\n",
    "function LP(n::Int)#::Array{Polynomial{Float64, :x}}\n",
    "    res = fill(Polynomial([Rational(BigInt(1))]), (n+1, ));\n",
    "    for ii = 1:n\n",
    "        if ii == 1\n",
    "            res[ii+1] = Polynomial([0.0, 1.0]);\n",
    "        else\n",
    "            res[ii+1] = ((2*ii-1) * Polynomial([0, 1]) * res[ii] - (ii-1) * res[ii-1])/ii\n",
    "        end\n",
    "    end\n",
    "    return res\n",
    "end\n",
    "s = -1:0.01:1\n",
    "X = LP(10)\n",
    "d = 9\n",
    "println(0≈ norm(legendrep.(d, s) - X[d+1].(s)))\n",
    "#println(legendrep(d, x))\n",
    "println(typeof(X))"
   ]
  },
  {
   "cell_type": "code",
   "execution_count": 1,
   "metadata": {},
   "outputs": [
    {
     "ename": "UndefVarError",
     "evalue": "UndefVarError: x not defined",
     "output_type": "error",
     "traceback": [
      "UndefVarError: x not defined\n",
      "\n",
      "Stacktrace:\n",
      " [1] top-level scope\n",
      "   @ d:\\GITRepos\\km-dropplet-solidsubstrate\\julia\\1_code\\playground.ipynb:2"
     ]
    }
   ],
   "source": [
    "using SpecialPolynomials\n",
    "basis(SpecialPolynomials.Legendre{Rational{BigInt}}, )(x) |> expand"
   ]
  },
  {
   "cell_type": "code",
   "execution_count": 14,
   "metadata": {},
   "outputs": [
    {
     "ename": "ArgumentError",
     "evalue": "ArgumentError: Package SymbolicNumericIntegration not found in current path:\n- Run `import Pkg; Pkg.add(\"SymbolicNumericIntegration\")` to install the SymbolicNumericIntegration package.\n",
     "output_type": "error",
     "traceback": [
      "ArgumentError: Package SymbolicNumericIntegration not found in current path:\n",
      "- Run `import Pkg; Pkg.add(\"SymbolicNumericIntegration\")` to install the SymbolicNumericIntegration package.\n",
      "\n",
      "\n",
      "Stacktrace:\n",
      "  [1] require(into::Module, mod::Symbol)\n",
      "    @ Base .\\loading.jl:967\n",
      "  [2] eval\n",
      "    @ .\\boot.jl:373 [inlined]\n",
      "  [3] include_string(mapexpr::typeof(REPL.softscope), mod::Module, code::String, filename::String)\n",
      "    @ Base .\\loading.jl:1196\n",
      "  [4] #invokelatest#2\n",
      "    @ .\\essentials.jl:716 [inlined]\n",
      "  [5] invokelatest\n",
      "    @ .\\essentials.jl:714 [inlined]\n",
      "  [6] (::VSCodeServer.var\"#198#199\"{VSCodeServer.NotebookRunCellArguments, String})()\n",
      "    @ VSCodeServer c:\\Users\\elvis\\.vscode\\extensions\\julialang.language-julia-1.38.2\\scripts\\packages\\VSCodeServer\\src\\serve_notebook.jl:19\n",
      "  [7] withpath(f::VSCodeServer.var\"#198#199\"{VSCodeServer.NotebookRunCellArguments, String}, path::String)\n",
      "    @ VSCodeServer c:\\Users\\elvis\\.vscode\\extensions\\julialang.language-julia-1.38.2\\scripts\\packages\\VSCodeServer\\src\\repl.jl:249\n",
      "  [8] notebook_runcell_request(conn::VSCodeServer.JSONRPC.JSONRPCEndpoint{Base.PipeEndpoint, Base.PipeEndpoint}, params::VSCodeServer.NotebookRunCellArguments)\n",
      "    @ VSCodeServer c:\\Users\\elvis\\.vscode\\extensions\\julialang.language-julia-1.38.2\\scripts\\packages\\VSCodeServer\\src\\serve_notebook.jl:13\n",
      "  [9] dispatch_msg(x::VSCodeServer.JSONRPC.JSONRPCEndpoint{Base.PipeEndpoint, Base.PipeEndpoint}, dispatcher::VSCodeServer.JSONRPC.MsgDispatcher, msg::Dict{String, Any})\n",
      "    @ VSCodeServer.JSONRPC c:\\Users\\elvis\\.vscode\\extensions\\julialang.language-julia-1.38.2\\scripts\\packages\\JSONRPC\\src\\typed.jl:67\n",
      " [10] serve_notebook(pipename::String, outputchannel_logger::Base.CoreLogging.SimpleLogger; crashreporting_pipename::String)\n",
      "    @ VSCodeServer c:\\Users\\elvis\\.vscode\\extensions\\julialang.language-julia-1.38.2\\scripts\\packages\\VSCodeServer\\src\\serve_notebook.jl:139\n",
      " [11] top-level scope\n",
      "    @ c:\\Users\\elvis\\.vscode\\extensions\\julialang.language-julia-1.38.2\\scripts\\notebook\\notebook.jl:32"
     ]
    }
   ],
   "source": [
    "using SymbolicNumericIntegration"
   ]
  },
  {
   "cell_type": "code",
   "execution_count": 17,
   "metadata": {},
   "outputs": [
    {
     "data": {
      "text/plain": [
       "5"
      ]
     },
     "metadata": {},
     "output_type": "display_data"
    }
   ],
   "source": [
    "using Polynomials\n",
    "sinPoly = Polynomial([(mod(n, 2) == 0 ? 0.0 : ((-1.0)^(n÷2)/factorial(n))) for n = 0:10 ])\n",
    "a = (x, y) -> x+y\n",
    "\n",
    "a(37, -32)"
   ]
  },
  {
   "cell_type": "code",
   "execution_count": 2,
   "metadata": {},
   "outputs": [
    {
     "name": "stdout",
     "output_type": "stream",
     "text": [
      "Function[var\"#11#12\"() #undef; #undef #undef]\n"
     ]
    }
   ],
   "source": [
    "A = Matrix{Function}(undef, 2, 2)\n",
    "\n",
    "A[1, 1] = (x) -> 2x\n",
    "\n",
    "\n",
    "println(A)"
   ]
  },
  {
   "cell_type": "code",
   "execution_count": 5,
   "metadata": {},
   "outputs": [
    {
     "name": "stdout",
     "output_type": "stream",
     "text": [
      "Hey!\n"
     ]
    },
    {
     "name": "stdout",
     "output_type": "stream",
     "text": [
      "3.0\n",
      "-0.129\n",
      "-0.129\n",
      "-0.129\n",
      "-0.129\n",
      "-0.129\n"
     ]
    }
   ],
   "source": [
    "using LegendrePolynomials\n",
    "function mylen(x)\n",
    "    println(\"Hey!\");\n",
    "    return length(x)\n",
    "end\n",
    "\n",
    "function a(b; c = mylen(b))\n",
    "    # c = mylen(b)\n",
    "    return (x) -> x * sum(b .* collectPl(x, lmax = c)[1:end])\n",
    "end\n",
    "\n",
    "d = a([1.0, 2.0])\n",
    "\n",
    "println(d(1.0))\n",
    "println(d(0.3))\n",
    "println(d(0.3))\n",
    "println(d(0.3))\n",
    "println(d(0.3))\n",
    "println(d(0.3))"
   ]
  }
 ],
 "metadata": {
  "kernelspec": {
   "display_name": "Julia 1.8.4",
   "language": "julia",
   "name": "julia-1.8"
  },
  "language_info": {
   "file_extension": ".jl",
   "mimetype": "application/julia",
   "name": "julia",
   "version": "1.8.4"
  },
  "orig_nbformat": 4
 },
 "nbformat": 4,
 "nbformat_minor": 2
}
